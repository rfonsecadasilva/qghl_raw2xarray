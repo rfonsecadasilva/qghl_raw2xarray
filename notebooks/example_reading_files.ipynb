{
 "cells": [
  {
   "cell_type": "markdown",
   "metadata": {},
   "source": [
    "# Example showcasing reading of raw files"
   ]
  },
  {
   "cell_type": "code",
   "execution_count": 1,
   "metadata": {},
   "outputs": [
    {
     "data": {
      "text/plain": [
       "<xarray.core.options.set_options at 0x7f342258fdf0>"
      ]
     },
     "execution_count": 1,
     "metadata": {},
     "output_type": "execute_result"
    }
   ],
   "source": [
    "from qghl_raw2xarray import flowtracker as ft\n",
    "from qghl_raw2xarray import hrmerlin_wavemaker as hrm\n",
    "from qghl_raw2xarray import vectrino as vec\n",
    "from qghl_raw2xarray import wave_gauges as wg\n",
    "import xarray as xr\n",
    "\n",
    "xr.set_options(display_style='text')"
   ]
  },
  {
   "cell_type": "markdown",
   "metadata": {},
   "source": [
    "## Xarray dataset from HR Merlin binary wave maker files"
   ]
  },
  {
   "cell_type": "code",
   "execution_count": 2,
   "metadata": {},
   "outputs": [
    {
     "name": "stdout",
     "output_type": "stream",
     "text": [
      "Reading HR Merlin wave maker file T001_Paddle_1.bin\n",
      "Reading HR Merlin wave maker file T001_Paddle_2.bin\n",
      "Reading HR Merlin wave maker file T001_Paddle_3.bin\n",
      "Reading HR Merlin wave maker file T001_Paddle_4.bin\n",
      "Reading HR Merlin wave maker file T001_Paddle_5.bin\n",
      "Reading HR Merlin wave maker file T001_Paddle_6.bin\n",
      "Reading HR Merlin wave maker file T001_Paddle_7.bin\n",
      "Reading HR Merlin wave maker file T001_Paddle_8.bin\n"
     ]
    },
    {
     "data": {
      "text/html": [
       "<pre>&lt;xarray.Dataset&gt;\n",
       "Dimensions:                (paddle: 8, time: 111860)\n",
       "Coordinates:\n",
       "  * time                   (time) float64 0.0 0.01 0.02 ... 1.119e+03 1.119e+03\n",
       "    time_offset            (time) float64 0.0 0.01 0.02 ... 1.119e+03 1.119e+03\n",
       "Dimensions without coordinates: paddle\n",
       "Data variables:\n",
       "    Target position        (paddle, time) float64 0.0 1.445e-05 ... 3.605e-05\n",
       "    Actual position        (paddle, time) float64 0.02546 0.0257 ... 0.5421\n",
       "    Predicted wave height  (paddle, time) float64 0.0 1.021e-05 ... -6.27e-06\n",
       "    Measured wave height   (paddle, time) float64 9.587e-05 ... -0.0007139\n",
       "Attributes:\n",
       "    Description:          HR Merlin wave gauge data at wave maker\n",
       "    Raw files path:       ./\n",
       "    Raw files:            [&#x27;T001_Paddle_1.bin&#x27;, &#x27;T001_Paddle_2.bin&#x27;, &#x27;T001_Pa...\n",
       "    Xarray dataset date:  2024-02-21T16:35:02.130061</pre>"
      ],
      "text/plain": [
       "<xarray.Dataset>\n",
       "Dimensions:                (paddle: 8, time: 111860)\n",
       "Coordinates:\n",
       "  * time                   (time) float64 0.0 0.01 0.02 ... 1.119e+03 1.119e+03\n",
       "    time_offset            (time) float64 0.0 0.01 0.02 ... 1.119e+03 1.119e+03\n",
       "Dimensions without coordinates: paddle\n",
       "Data variables:\n",
       "    Target position        (paddle, time) float64 0.0 1.445e-05 ... 3.605e-05\n",
       "    Actual position        (paddle, time) float64 0.02546 0.0257 ... 0.5421\n",
       "    Predicted wave height  (paddle, time) float64 0.0 1.021e-05 ... -6.27e-06\n",
       "    Measured wave height   (paddle, time) float64 9.587e-05 ... -0.0007139\n",
       "Attributes:\n",
       "    Description:          HR Merlin wave gauge data at wave maker\n",
       "    Raw files path:       ./\n",
       "    Raw files:            ['T001_Paddle_1.bin', 'T001_Paddle_2.bin', 'T001_Pa...\n",
       "    Xarray dataset date:  2024-02-21T16:35:02.130061"
      ]
     },
     "execution_count": 2,
     "metadata": {},
     "output_type": "execute_result"
    }
   ],
   "source": [
    "ds_wm=hrm.calculate_ds_wm(xmlfile='T001.xml')\n",
    "ds_wm"
   ]
  },
  {
   "cell_type": "markdown",
   "metadata": {},
   "source": [
    "## Xarray dataset from HR Wallingford capacitance csv wave gauge files"
   ]
  },
  {
   "cell_type": "code",
   "execution_count": 3,
   "metadata": {},
   "outputs": [
    {
     "name": "stdout",
     "output_type": "stream",
     "text": [
      "Reading capacitance wave gauge file T001_cwg.csv\n"
     ]
    },
    {
     "data": {
      "text/html": [
       "<pre>&lt;xarray.Dataset&gt;\n",
       "Dimensions:      (station: 8, time: 117900)\n",
       "Coordinates:\n",
       "  * time         (time) float64 0.0 0.01 0.02 ... 1.179e+03 1.179e+03 1.179e+03\n",
       "    time_offset  (time) float64 0.0 0.01 0.02 ... 1.179e+03 1.179e+03 1.179e+03\n",
       "Dimensions without coordinates: station\n",
       "Data variables:\n",
       "    Watlev       (station, time) float64 0.000343 0.000294 ... 0.000432 0.000783\n",
       "Attributes:\n",
       "    Description:          HR Wallingford capacitance wave gauge data\n",
       "    Raw files path:       ./\n",
       "    Raw files:            [&#x27;T001_cwg.csv&#x27;]\n",
       "    Xarray dataset date:  2024-02-21T16:35:02.274846</pre>"
      ],
      "text/plain": [
       "<xarray.Dataset>\n",
       "Dimensions:      (station: 8, time: 117900)\n",
       "Coordinates:\n",
       "  * time         (time) float64 0.0 0.01 0.02 ... 1.179e+03 1.179e+03 1.179e+03\n",
       "    time_offset  (time) float64 0.0 0.01 0.02 ... 1.179e+03 1.179e+03 1.179e+03\n",
       "Dimensions without coordinates: station\n",
       "Data variables:\n",
       "    Watlev       (station, time) float64 0.000343 0.000294 ... 0.000432 0.000783\n",
       "Attributes:\n",
       "    Description:          HR Wallingford capacitance wave gauge data\n",
       "    Raw files path:       ./\n",
       "    Raw files:            ['T001_cwg.csv']\n",
       "    Xarray dataset date:  2024-02-21T16:35:02.274846"
      ]
     },
     "execution_count": 3,
     "metadata": {},
     "output_type": "execute_result"
    }
   ],
   "source": [
    "ds_cwg=wg.calculate_ds_cwg(cwgfile='T001_cwg.csv')\n",
    "ds_cwg"
   ]
  },
  {
   "cell_type": "markdown",
   "metadata": {},
   "source": [
    "## Xarray dataset from DHI resistance dfs0 wave gauge files"
   ]
  },
  {
   "cell_type": "code",
   "execution_count": 4,
   "metadata": {},
   "outputs": [
    {
     "name": "stdout",
     "output_type": "stream",
     "text": [
      "Reading resistance wave gauge file T001.dfs0\n"
     ]
    },
    {
     "data": {
      "text/html": [
       "<pre>&lt;xarray.Dataset&gt;\n",
       "Dimensions:      (station: 8, time: 117900)\n",
       "Coordinates:\n",
       "  * time         (time) datetime64[ns] 1970-01-01 ... 1970-01-01T00:19:38.990000\n",
       "    time_offset  (time) float64 0.0 1e+07 2e+07 ... 1.179e+12 1.179e+12\n",
       "Dimensions without coordinates: station\n",
       "Data variables:\n",
       "    Watlev       (station, time) float64 0.0001127 6.388e-05 ... 0.0003653\n",
       "Attributes:\n",
       "    Description:          DHI resistance wave gauge data\n",
       "    Raw files path:       ./\n",
       "    Raw files:            [&#x27;T001.dfs0&#x27;]\n",
       "    Xarray dataset date:  2024-02-21T16:35:02.776124</pre>"
      ],
      "text/plain": [
       "<xarray.Dataset>\n",
       "Dimensions:      (station: 8, time: 117900)\n",
       "Coordinates:\n",
       "  * time         (time) datetime64[ns] 1970-01-01 ... 1970-01-01T00:19:38.990000\n",
       "    time_offset  (time) float64 0.0 1e+07 2e+07 ... 1.179e+12 1.179e+12\n",
       "Dimensions without coordinates: station\n",
       "Data variables:\n",
       "    Watlev       (station, time) float64 0.0001127 6.388e-05 ... 0.0003653\n",
       "Attributes:\n",
       "    Description:          DHI resistance wave gauge data\n",
       "    Raw files path:       ./\n",
       "    Raw files:            ['T001.dfs0']\n",
       "    Xarray dataset date:  2024-02-21T16:35:02.776124"
      ]
     },
     "execution_count": 4,
     "metadata": {},
     "output_type": "execute_result"
    }
   ],
   "source": [
    "ds_rwg=wg.calculate_ds_rwg(rwgfile='T001.dfs0')\n",
    "ds_rwg"
   ]
  },
  {
   "cell_type": "markdown",
   "metadata": {},
   "source": [
    "## Xarray dataset from Vectrino ADV binary vno files"
   ]
  },
  {
   "cell_type": "code",
   "execution_count": 5,
   "metadata": {},
   "outputs": [
    {
     "name": "stdout",
     "output_type": "stream",
     "text": [
      "Reading Vectrino vno file T001.vno\n",
      "Reading file ./T001.vno ...\n"
     ]
    },
    {
     "data": {
      "text/html": [
       "<pre>&lt;xarray.Dataset&gt;\n",
       "Dimensions:              (station: 1, x1: 4, x2: 4, time: 12504, dir: 4, beam: 4)\n",
       "Coordinates:\n",
       "  * station              (station) object &#x27;VEC&#x27;\n",
       "  * x1                   (x1) int32 1 2 3 4\n",
       "  * x2                   (x2) int32 1 2 3 4\n",
       "  * time                 (time) datetime64[ns] 2023-10-18T15:34:42 ... 2023-1...\n",
       "  * dir                  (dir) &lt;U2 &#x27;X&#x27; &#x27;Y&#x27; &#x27;Z1&#x27; &#x27;Z2&#x27;\n",
       "  * beam                 (beam) int32 1 2 3 4\n",
       "    time_offset          (time) float64 0.0 4e+07 8e+07 ... 5.001e+11 5.001e+11\n",
       "Data variables:\n",
       "    beam2inst_orientmat  (station, x1, x2) float64 1.975 0.0 -1.977 ... 0.0 0.54\n",
       "    status               (station, time) uint8 35 35 35 35 35 ... 35 35 35 35 35\n",
       "    vel                  (station, dir, time) float32 0.9755 0.9783 ... 0.0416\n",
       "    amp                  (station, beam, time) uint8 54 59 58 60 ... 100 90 70\n",
       "    corr                 (station, beam, time) uint8 79 91 87 89 ... 98 95 91 85\n",
       "Attributes: (12/43)\n",
       "    inst_make:                   Nortek\n",
       "    inst_model:                  Vectrino\n",
       "    inst_type:                   ADV\n",
       "    rotate_vars:                 [&#x27;vel&#x27;]\n",
       "    n_beams:                     4\n",
       "    profile_mode:                continuous\n",
       "    ...                          ...\n",
       "    coord_sys:                   inst\n",
       "    has_imu:                     0\n",
       "    Description:                 Vectrino point ADV data\n",
       "    Raw files path:              ./\n",
       "    Raw files:                   [&#x27;T001.vno&#x27;]\n",
       "    Xarray dataset date:         2024-02-21T16:35:02.907219</pre>"
      ],
      "text/plain": [
       "<xarray.Dataset>\n",
       "Dimensions:              (station: 1, x1: 4, x2: 4, time: 12504, dir: 4, beam: 4)\n",
       "Coordinates:\n",
       "  * station              (station) object 'VEC'\n",
       "  * x1                   (x1) int32 1 2 3 4\n",
       "  * x2                   (x2) int32 1 2 3 4\n",
       "  * time                 (time) datetime64[ns] 2023-10-18T15:34:42 ... 2023-1...\n",
       "  * dir                  (dir) <U2 'X' 'Y' 'Z1' 'Z2'\n",
       "  * beam                 (beam) int32 1 2 3 4\n",
       "    time_offset          (time) float64 0.0 4e+07 8e+07 ... 5.001e+11 5.001e+11\n",
       "Data variables:\n",
       "    beam2inst_orientmat  (station, x1, x2) float64 1.975 0.0 -1.977 ... 0.0 0.54\n",
       "    status               (station, time) uint8 35 35 35 35 35 ... 35 35 35 35 35\n",
       "    vel                  (station, dir, time) float32 0.9755 0.9783 ... 0.0416\n",
       "    amp                  (station, beam, time) uint8 54 59 58 60 ... 100 90 70\n",
       "    corr                 (station, beam, time) uint8 79 91 87 89 ... 98 95 91 85\n",
       "Attributes: (12/43)\n",
       "    inst_make:                   Nortek\n",
       "    inst_model:                  Vectrino\n",
       "    inst_type:                   ADV\n",
       "    rotate_vars:                 ['vel']\n",
       "    n_beams:                     4\n",
       "    profile_mode:                continuous\n",
       "    ...                          ...\n",
       "    coord_sys:                   inst\n",
       "    has_imu:                     0\n",
       "    Description:                 Vectrino point ADV data\n",
       "    Raw files path:              ./\n",
       "    Raw files:                   ['T001.vno']\n",
       "    Xarray dataset date:         2024-02-21T16:35:02.907219"
      ]
     },
     "execution_count": 5,
     "metadata": {},
     "output_type": "execute_result"
    }
   ],
   "source": [
    "ds_vec = vec.calculate_ds_vec(vecfile='T001.vno')\n",
    "ds_vec"
   ]
  },
  {
   "cell_type": "markdown",
   "metadata": {},
   "source": [
    "## Xarray dataset from Flowtracker ADV and pressure sensor csv files "
   ]
  },
  {
   "cell_type": "code",
   "execution_count": 6,
   "metadata": {},
   "outputs": [
    {
     "name": "stdout",
     "output_type": "stream",
     "text": [
      "Reading Flowtracker csv file T001_ft.csv\n"
     ]
    },
    {
     "data": {
      "text/html": [
       "<pre>&lt;xarray.Dataset&gt;\n",
       "Dimensions:             (station: 1, beam: 3, time: 10820)\n",
       "Coordinates:\n",
       "  * station             (station) object &#x27;FT&#x27;\n",
       "  * beam                (beam) int64 1 2 3\n",
       "  * time                (time) datetime64[ns] 2023-10-19T10:41:54.540000 ... ...\n",
       "    utc_time            (time) datetime64[ns] 2023-10-19T00:41:54.540000 ... ...\n",
       "    time_offset         (time) float64 0.0 9e+07 2e+08 ... 1.085e+12 1.085e+12\n",
       "Data variables: (12/14)\n",
       "    Raw Velocity        (station, beam, time) float64 -0.069 -0.098 ... -0.063\n",
       "    Corrected Velocity  (station, beam, time) float64 -0.069 -0.098 ... -0.063\n",
       "    Correlation Score   (station, beam, time) float64 11.0 16.0 ... 39.0 36.0\n",
       "    SNR                 (station, beam, time) float64 2.409 2.04 ... 6.598 6.142\n",
       "    Computed Amplitude  (station, beam, time) float64 670.6 669.7 ... 680.3\n",
       "    Noise Level         (station, beam, time) float64 665.0 665.0 ... 666.0\n",
       "    ...                  ...\n",
       "    Raw Pressure        (station, time) float64 10.33 10.33 ... 10.33 10.33\n",
       "    Corrected Pressure  (station, time) float64 nan nan nan nan ... nan nan nan\n",
       "    Depth               (station, time) float64 nan nan nan nan ... nan nan nan\n",
       "    PS Calibration Age  (station, time) float64 nan nan nan nan ... nan nan nan\n",
       "    Voltage             (station, time) float64 12.17 12.17 ... 12.17 12.17\n",
       "    Accelerometer       (station, beam, time) float64 114.9 99.48 ... 1.623e+04\n",
       "Attributes: (12/19)\n",
       "    SerialPortNumber:                          3\n",
       "    SamplingRate (Hz):                         10.0\n",
       "    VelocityRange:                             4\n",
       "    RunAutomatedBeamCheckOnStart:              1\n",
       "    UsePressureSensor:                         1\n",
       "    PressureSensorCalibrationIntervalMinutes:  60\n",
       "    ...                                        ...\n",
       "    FileLoggingIntervalSnapping:               1\n",
       "    SoundSpeedOverride (m.s):                  None\n",
       "    Description:                               Flowtracker ADV and pressure s...\n",
       "    Raw files path:                            ./\n",
       "    Raw files:                                 [&#x27;T001_ft.csv&#x27;]\n",
       "    Xarray dataset date:                       2024-02-21T16:35:03.613036</pre>"
      ],
      "text/plain": [
       "<xarray.Dataset>\n",
       "Dimensions:             (station: 1, beam: 3, time: 10820)\n",
       "Coordinates:\n",
       "  * station             (station) object 'FT'\n",
       "  * beam                (beam) int64 1 2 3\n",
       "  * time                (time) datetime64[ns] 2023-10-19T10:41:54.540000 ... ...\n",
       "    utc_time            (time) datetime64[ns] 2023-10-19T00:41:54.540000 ... ...\n",
       "    time_offset         (time) float64 0.0 9e+07 2e+08 ... 1.085e+12 1.085e+12\n",
       "Data variables: (12/14)\n",
       "    Raw Velocity        (station, beam, time) float64 -0.069 -0.098 ... -0.063\n",
       "    Corrected Velocity  (station, beam, time) float64 -0.069 -0.098 ... -0.063\n",
       "    Correlation Score   (station, beam, time) float64 11.0 16.0 ... 39.0 36.0\n",
       "    SNR                 (station, beam, time) float64 2.409 2.04 ... 6.598 6.142\n",
       "    Computed Amplitude  (station, beam, time) float64 670.6 669.7 ... 680.3\n",
       "    Noise Level         (station, beam, time) float64 665.0 665.0 ... 666.0\n",
       "    ...                  ...\n",
       "    Raw Pressure        (station, time) float64 10.33 10.33 ... 10.33 10.33\n",
       "    Corrected Pressure  (station, time) float64 nan nan nan nan ... nan nan nan\n",
       "    Depth               (station, time) float64 nan nan nan nan ... nan nan nan\n",
       "    PS Calibration Age  (station, time) float64 nan nan nan nan ... nan nan nan\n",
       "    Voltage             (station, time) float64 12.17 12.17 ... 12.17 12.17\n",
       "    Accelerometer       (station, beam, time) float64 114.9 99.48 ... 1.623e+04\n",
       "Attributes: (12/19)\n",
       "    SerialPortNumber:                          3\n",
       "    SamplingRate (Hz):                         10.0\n",
       "    VelocityRange:                             4\n",
       "    RunAutomatedBeamCheckOnStart:              1\n",
       "    UsePressureSensor:                         1\n",
       "    PressureSensorCalibrationIntervalMinutes:  60\n",
       "    ...                                        ...\n",
       "    FileLoggingIntervalSnapping:               1\n",
       "    SoundSpeedOverride (m.s):                  None\n",
       "    Description:                               Flowtracker ADV and pressure s...\n",
       "    Raw files path:                            ./\n",
       "    Raw files:                                 ['T001_ft.csv']\n",
       "    Xarray dataset date:                       2024-02-21T16:35:03.613036"
      ]
     },
     "execution_count": 6,
     "metadata": {},
     "output_type": "execute_result"
    }
   ],
   "source": [
    "ds_ft = ft.calculate_ds_ft(ftfile='T001_ft.csv')\n",
    "ds_ft"
   ]
  }
 ],
 "metadata": {
  "kernelspec": {
   "display_name": "renan",
   "language": "python",
   "name": "python3"
  },
  "language_info": {
   "codemirror_mode": {
    "name": "ipython",
    "version": 3
   },
   "file_extension": ".py",
   "mimetype": "text/x-python",
   "name": "python",
   "nbconvert_exporter": "python",
   "pygments_lexer": "ipython3",
   "version": "3.10.4"
  }
 },
 "nbformat": 4,
 "nbformat_minor": 2
}
